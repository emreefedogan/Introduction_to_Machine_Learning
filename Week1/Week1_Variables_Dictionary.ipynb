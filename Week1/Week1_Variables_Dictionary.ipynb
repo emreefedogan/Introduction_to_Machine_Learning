{
 "cells": [
  {
   "cell_type": "code",
   "execution_count": 6,
   "id": "c268df38",
   "metadata": {},
   "outputs": [
    {
     "name": "stdout",
     "output_type": "stream",
     "text": [
      "18.1\n",
      "September\n"
     ]
    }
   ],
   "source": [
    "a=4\n",
    "b=5\n",
    "c=9.1\n",
    "week=\"September\"\n",
    "print(a+b+c)\n",
    "print(week)"
   ]
  },
  {
   "cell_type": "code",
   "execution_count": 8,
   "id": "e5d222f6",
   "metadata": {},
   "outputs": [
    {
     "name": "stdout",
     "output_type": "stream",
     "text": [
      "[10, 20, 30]\n"
     ]
    },
    {
     "data": {
      "text/plain": [
       "list"
      ]
     },
     "execution_count": 8,
     "metadata": {},
     "output_type": "execute_result"
    }
   ],
   "source": [
    "first=10\n",
    "second=20\n",
    "third=30\n",
    "\n",
    "my_list=[first,second,third]\n",
    "print(my_list)\n",
    "type(my_list)\n"
   ]
  },
  {
   "cell_type": "code",
   "execution_count": 12,
   "id": "3e1b2340",
   "metadata": {},
   "outputs": [
    {
     "name": "stdout",
     "output_type": "stream",
     "text": [
      "['emre', 10, 20, 30]\n"
     ]
    },
    {
     "data": {
      "text/plain": [
       "str"
      ]
     },
     "execution_count": 12,
     "metadata": {},
     "output_type": "execute_result"
    }
   ],
   "source": [
    "my_list_and_str=[\"emre\",first,second,third]\n",
    "print(my_list_str)\n",
    "\n",
    "type(my_list_str[0])\n"
   ]
  },
  {
   "cell_type": "code",
   "execution_count": 13,
   "id": "c5569dab",
   "metadata": {},
   "outputs": [
    {
     "name": "stdout",
     "output_type": "stream",
     "text": [
      "emre\n"
     ]
    }
   ],
   "source": [
    "value=my_list_and_str[0]\n",
    "print(value)"
   ]
  },
  {
   "cell_type": "code",
   "execution_count": 14,
   "id": "e42e0a89",
   "metadata": {},
   "outputs": [
    {
     "name": "stdout",
     "output_type": "stream",
     "text": [
      "['emre', 10, 20, 30]\n"
     ]
    }
   ],
   "source": [
    "list_divide= my_list_and_str[0:4]\n",
    "print(list_divide)"
   ]
  },
  {
   "cell_type": "code",
   "execution_count": 15,
   "id": "25bc6352",
   "metadata": {},
   "outputs": [
    {
     "data": {
      "text/plain": [
       "['__add__',\n",
       " '__class__',\n",
       " '__class_getitem__',\n",
       " '__contains__',\n",
       " '__delattr__',\n",
       " '__delitem__',\n",
       " '__dir__',\n",
       " '__doc__',\n",
       " '__eq__',\n",
       " '__format__',\n",
       " '__ge__',\n",
       " '__getattribute__',\n",
       " '__getitem__',\n",
       " '__gt__',\n",
       " '__hash__',\n",
       " '__iadd__',\n",
       " '__imul__',\n",
       " '__init__',\n",
       " '__init_subclass__',\n",
       " '__iter__',\n",
       " '__le__',\n",
       " '__len__',\n",
       " '__lt__',\n",
       " '__mul__',\n",
       " '__ne__',\n",
       " '__new__',\n",
       " '__reduce__',\n",
       " '__reduce_ex__',\n",
       " '__repr__',\n",
       " '__reversed__',\n",
       " '__rmul__',\n",
       " '__setattr__',\n",
       " '__setitem__',\n",
       " '__sizeof__',\n",
       " '__str__',\n",
       " '__subclasshook__',\n",
       " 'append',\n",
       " 'clear',\n",
       " 'copy',\n",
       " 'count',\n",
       " 'extend',\n",
       " 'index',\n",
       " 'insert',\n",
       " 'pop',\n",
       " 'remove',\n",
       " 'reverse',\n",
       " 'sort']"
      ]
     },
     "execution_count": 15,
     "metadata": {},
     "output_type": "execute_result"
    }
   ],
   "source": [
    "dir(my_list)"
   ]
  },
  {
   "cell_type": "code",
   "execution_count": 16,
   "id": "c2e91354",
   "metadata": {},
   "outputs": [
    {
     "name": "stdout",
     "output_type": "stream",
     "text": [
      "Help on method_descriptor:\n",
      "\n",
      "append(self, object, /)\n",
      "    Append object to the end of the list.\n",
      "\n"
     ]
    }
   ],
   "source": [
    "help(list.append)"
   ]
  },
  {
   "cell_type": "code",
   "execution_count": 17,
   "id": "d6cfb6e6",
   "metadata": {},
   "outputs": [
    {
     "name": "stdout",
     "output_type": "stream",
     "text": [
      "Help on method_descriptor:\n",
      "\n",
      "remove(self, value, /)\n",
      "    Remove first occurrence of value.\n",
      "    \n",
      "    Raises ValueError if the value is not present.\n",
      "\n"
     ]
    }
   ],
   "source": [
    "help(list.remove)"
   ]
  },
  {
   "cell_type": "code",
   "execution_count": 25,
   "id": "63c4f827",
   "metadata": {},
   "outputs": [
    {
     "name": "stdout",
     "output_type": "stream",
     "text": [
      "[0, 1, 2, 3, 4]\n"
     ]
    }
   ],
   "source": [
    "my_list_int=[0,1,2,3]\n",
    "my_list_int.append(4)\n",
    "print(my_list_int)"
   ]
  },
  {
   "cell_type": "code",
   "execution_count": 26,
   "id": "e3299209",
   "metadata": {},
   "outputs": [
    {
     "name": "stdout",
     "output_type": "stream",
     "text": [
      "[1, 2, 3, 4]\n"
     ]
    }
   ],
   "source": [
    "my_list_int.remove(0)\n",
    "print(my_list_int)"
   ]
  },
  {
   "cell_type": "code",
   "execution_count": 27,
   "id": "440ed954",
   "metadata": {},
   "outputs": [
    {
     "name": "stdout",
     "output_type": "stream",
     "text": [
      "[4, 3, 2, 1]\n"
     ]
    }
   ],
   "source": [
    "my_list_int.reverse()\n",
    "print(my_list_int)\n"
   ]
  },
  {
   "cell_type": "code",
   "execution_count": 29,
   "id": "fc5acf20",
   "metadata": {},
   "outputs": [
    {
     "name": "stdout",
     "output_type": "stream",
     "text": [
      "2\n",
      "3\n",
      "4\n",
      "5\n",
      "6\n",
      "7\n",
      "8\n"
     ]
    }
   ],
   "source": [
    "for each in range (2,9):\n",
    "  print(each)"
   ]
  },
  {
   "cell_type": "code",
   "execution_count": 30,
   "id": "87eebf84",
   "metadata": {},
   "outputs": [
    {
     "name": "stdout",
     "output_type": "stream",
     "text": [
      "k\n",
      "ı\n",
      "r\n",
      "ı\n",
      "k\n",
      "k\n",
      "a\n",
      "l\n",
      "e\n"
     ]
    }
   ],
   "source": [
    "\n",
    "for each in \"kırıkkale\":\n",
    "    \n",
    "    print(each)"
   ]
  },
  {
   "cell_type": "code",
   "execution_count": 32,
   "id": "6721cf15",
   "metadata": {},
   "outputs": [
    {
     "data": {
      "text/plain": [
       "111"
      ]
     },
     "execution_count": 32,
     "metadata": {},
     "output_type": "execute_result"
    }
   ],
   "source": [
    "list1=[3,4,5,6,6]\n",
    "list2=[4,5,65,6,7] \n",
    "sum(list1+list2)"
   ]
  },
  {
   "cell_type": "code",
   "execution_count": 33,
   "id": "7352a5c4",
   "metadata": {},
   "outputs": [
    {
     "data": {
      "text/plain": [
       "7"
      ]
     },
     "execution_count": 33,
     "metadata": {},
     "output_type": "execute_result"
    }
   ],
   "source": [
    "min(list1)+min(list2)"
   ]
  },
  {
   "cell_type": "code",
   "execution_count": 42,
   "id": "0b40afbf",
   "metadata": {},
   "outputs": [
    {
     "name": "stdout",
     "output_type": "stream",
     "text": [
      "3\n",
      "5\n",
      "6\n",
      "9\n",
      "10\n",
      "12\n",
      "15\n",
      "18\n",
      "20\n",
      "21\n",
      "24\n",
      "25\n",
      "27\n",
      "30\n",
      "33\n",
      "35\n",
      "36\n",
      "39\n",
      "40\n",
      "42\n",
      "45\n",
      "48\n",
      "50\n",
      "51\n",
      "54\n",
      "55\n",
      "57\n",
      "60\n",
      "63\n",
      "65\n",
      "66\n",
      "69\n",
      "70\n",
      "72\n",
      "75\n",
      "78\n",
      "80\n",
      "81\n",
      "84\n",
      "85\n",
      "87\n",
      "90\n",
      "93\n",
      "95\n",
      "96\n",
      "99\n",
      "100\n"
     ]
    }
   ],
   "source": [
    "for i in range(1,101):\n",
    "    if i%3==0 or i%5==0:\n",
    "        print(i)\n"
   ]
  },
  {
   "cell_type": "code",
   "execution_count": 47,
   "id": "08d9b1c4",
   "metadata": {},
   "outputs": [
    {
     "name": "stdout",
     "output_type": "stream",
     "text": [
      "Dizideki En Büyük Değer : 6 \n",
      "Dizideki En Küçük Değer : 3 \n"
     ]
    }
   ],
   "source": [
    "minNumber = list1[0]\n",
    "maxNumber = list1[0]\n",
    " \n",
    "for i in range(0,4):\n",
    "    if minNumber > list1[i]:\n",
    "        minNumber = list1[i]\n",
    "    if maxNumber < list1[i]:\n",
    "        maxNumber = list1[i]\n",
    "        \n",
    "print(\"Dizideki En Büyük Değer : {0} \".format(maxNumber))\n",
    "print(\"Dizideki En Küçük Değer : {0} \".format(minNumber))"
   ]
  },
  {
   "cell_type": "code",
   "execution_count": 50,
   "id": "0d946d83",
   "metadata": {},
   "outputs": [
    {
     "data": {
      "text/plain": [
       "True"
      ]
     },
     "execution_count": 50,
     "metadata": {},
     "output_type": "execute_result"
    }
   ],
   "source": [
    "\n",
    "1 == False #False\n",
    "1 == True #True\n",
    "\n"
   ]
  },
  {
   "cell_type": "code",
   "execution_count": 51,
   "id": "e9ad7661",
   "metadata": {},
   "outputs": [
    {
     "name": "stdout",
     "output_type": "stream",
     "text": [
      "number1 buyuktur number2'den\n"
     ]
    }
   ],
   "source": [
    "number1=99\n",
    "number2=49\n",
    "\n",
    "if (number1 < number2):\n",
    "    \n",
    "    print(\"number1 kucuktur number2'den\")\n",
    "    \n",
    "elif (number1 == number2):\n",
    "    print(\"number1 eşittir number2 ye\")\n",
    "    \n",
    "else :\n",
    "    \n",
    "    print(\"number1 buyuktur number2'den\")\n",
    "    "
   ]
  },
  {
   "cell_type": "code",
   "execution_count": 56,
   "id": "8a84f406",
   "metadata": {
    "scrolled": true
   },
   "outputs": [
    {
     "name": "stdout",
     "output_type": "stream",
     "text": [
      "10\n",
      "9\n",
      "8\n",
      "7\n",
      "6\n",
      "5\n",
      "4\n",
      "3\n",
      "2\n",
      "1\n"
     ]
    }
   ],
   "source": [
    "i=10\n",
    "while (i>0):\n",
    "    \n",
    "    print(i)\n",
    "    \n",
    "    i = i-1\n",
    "  "
   ]
  },
  {
   "cell_type": "code",
   "execution_count": 59,
   "id": "aece09db",
   "metadata": {},
   "outputs": [
    {
     "data": {
      "text/plain": [
       "12.56"
      ]
     },
     "execution_count": 59,
     "metadata": {},
     "output_type": "execute_result"
    }
   ],
   "source": [
    "def cember_alan(r,pi=3.14):    \n",
    " \n",
    "    output = pi*r*r\n",
    "    \n",
    "    return output\n",
    "\n",
    "cember_alan(2) "
   ]
  },
  {
   "cell_type": "code",
   "execution_count": 63,
   "id": "9d8beb19",
   "metadata": {},
   "outputs": [
    {
     "data": {
      "text/plain": [
       "6.0"
      ]
     },
     "execution_count": 63,
     "metadata": {},
     "output_type": "execute_result"
    }
   ],
   "source": [
    "def dikdortgen_alani(x,y):\n",
    "    \n",
    "    output= x*y/2\n",
    "    \n",
    "    return output\n",
    "\n",
    "sonuc = dikdortgen_alani(3,4)\n",
    "sonuc\n"
   ]
  },
  {
   "cell_type": "code",
   "execution_count": 64,
   "id": "54a74530",
   "metadata": {},
   "outputs": [
    {
     "name": "stdout",
     "output_type": "stream",
     "text": [
      "6.0\n"
     ]
    }
   ],
   "source": [
    "output2 = lambda x,y: x*y/2 \n",
    "\n",
    "print(output2(3,4)) "
   ]
  },
  {
   "cell_type": "code",
   "execution_count": 65,
   "id": "7dd0d95b",
   "metadata": {},
   "outputs": [
    {
     "data": {
      "text/plain": [
       "23"
      ]
     },
     "execution_count": 65,
     "metadata": {},
     "output_type": "execute_result"
    }
   ],
   "source": [
    "\n",
    "yaslar = {\"emre\":23, \"zeynep\":34, \"neva\":33}\n",
    "\n",
    "type(yaslar) \n",
    "\n",
    "yaslar[\"emre\"] \n",
    "\n"
   ]
  },
  {
   "cell_type": "code",
   "execution_count": 70,
   "id": "8ae0bc4d",
   "metadata": {},
   "outputs": [
    {
     "data": {
      "text/plain": [
       "34"
      ]
     },
     "execution_count": 70,
     "metadata": {},
     "output_type": "execute_result"
    }
   ],
   "source": [
    "type(yaslar[\"emre\"]) \n",
    "yaslar.keys() \n",
    "yaslar.values()\n",
    "\n",
    "def function():\n",
    "    \n",
    "    dictionary = {\"emre\":34, \"zeynep\":34, \"neva\":33}\n",
    "    \n",
    "    return dictionary\n",
    "\n",
    "dic = function()\n",
    "\n",
    "dic[\"emre\"] "
   ]
  },
  {
   "cell_type": "code",
   "execution_count": 75,
   "id": "aa35d84e",
   "metadata": {},
   "outputs": [
    {
     "data": {
      "text/plain": [
       "57"
      ]
     },
     "execution_count": 75,
     "metadata": {},
     "output_type": "execute_result"
    }
   ],
   "source": [
    "def yassum():\n",
    "\n",
    "    return yaslar[\"emre\"]+yaslar[\"zeynep\"]\n",
    "\n",
    "yassum()\n"
   ]
  },
  {
   "cell_type": "code",
   "execution_count": 76,
   "id": "5db95891",
   "metadata": {},
   "outputs": [
    {
     "name": "stdout",
     "output_type": "stream",
     "text": [
      "hayır\n"
     ]
    }
   ],
   "source": [
    "keys = yaslar.keys() \n",
    "\n",
    "if \"ali\" in keys: \n",
    "    \n",
    "    print(\"evet\")\n",
    "\n",
    "else:\n",
    "    print(\"hayır\")"
   ]
  },
  {
   "cell_type": "code",
   "execution_count": null,
   "id": "e286ab43",
   "metadata": {},
   "outputs": [],
   "source": []
  }
 ],
 "metadata": {
  "kernelspec": {
   "display_name": "Python 3 (ipykernel)",
   "language": "python",
   "name": "python3"
  },
  "language_info": {
   "codemirror_mode": {
    "name": "ipython",
    "version": 3
   },
   "file_extension": ".py",
   "mimetype": "text/x-python",
   "name": "python",
   "nbconvert_exporter": "python",
   "pygments_lexer": "ipython3",
   "version": "3.9.13"
  }
 },
 "nbformat": 4,
 "nbformat_minor": 5
}
